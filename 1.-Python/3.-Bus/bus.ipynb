{
 "cells": [
  {
   "cell_type": "markdown",
   "metadata": {},
   "source": [
    "<img src=\"https://bit.ly/2VnXWr2\" width=\"100\" align=\"left\">"
   ]
  },
  {
   "cell_type": "markdown",
   "metadata": {},
   "source": [
    "# Bus\n",
    "\n",
    "This bus has a passenger entry and exit control system to monitor the number of occupants it carries and thus detect when there are too many.\n",
    "\n",
    "At each stop, the entry and exit of passengers is represented by a tuple consisting of two integer numbers.\n",
    "```\n",
    "bus_stop = (in, out)\n",
    "```\n",
    "The succession of stops is represented by a list of these tuples.\n",
    "```\n",
    "stops = [(in1, out1), (in2, out2), (in3, out3), (in4, out4)]\n",
    "```\n",
    "\n",
    "## Tools\n",
    "You don't necessarily need to use all the tools. Maybe you opt to use some of them or completely different ones, they are given to help you shape the exercise. Programming exercises can be solved in many different ways.\n",
    "* Data structures: **lists, tuples**\n",
    "* Loop: **while/for loops**\n",
    "* Functions: **min, max, len**\n",
    "\n",
    "## Tasks"
   ]
  },
  {
   "cell_type": "code",
   "execution_count": 1,
   "metadata": {},
   "outputs": [],
   "source": [
    "# Variables\n",
    "stops = [(10, 0), (4, 1), (3, 5), (3, 4), (5, 1), (1, 5), (5, 8), (4, 6), (2, 3)]"
   ]
  },
  {
   "cell_type": "markdown",
   "metadata": {},
   "source": [
    "#### 1. Calculate the number of stops."
   ]
  },
  {
   "cell_type": "code",
   "execution_count": 2,
   "metadata": {},
   "outputs": [
    {
     "name": "stdout",
     "output_type": "stream",
     "text": [
      "There are 9 stops\n"
     ]
    }
   ],
   "source": [
    "print(\"There are\", len(stops), \"stops\")"
   ]
  },
  {
   "cell_type": "markdown",
   "metadata": {},
   "source": [
    "#### 2. Assign to a variable a list whose elements are the number of passengers at each stop (in-out).\n",
    "Each item depends on the previous item in the list + in - out."
   ]
  },
  {
   "cell_type": "code",
   "execution_count": 3,
   "metadata": {},
   "outputs": [
    {
     "name": "stdout",
     "output_type": "stream",
     "text": [
      "At the stop n° 1 , there are 10 passengers.\n",
      "At the stop n° 2 , there are 13 passengers.\n",
      "At the stop n° 3 , there are 11 passengers.\n",
      "At the stop n° 4 , there are 10 passengers.\n",
      "At the stop n° 5 , there are 14 passengers.\n",
      "At the stop n° 6 , there are 10 passengers.\n",
      "At the stop n° 7 , there are 7 passengers.\n",
      "At the stop n° 8 , there are 5 passengers.\n",
      "At the stop n° 9 , there are 4 passengers.\n"
     ]
    }
   ],
   "source": [
    "stop_num = 0\n",
    "passengers = 0\n",
    "\n",
    "for i in stops : \n",
    "    passengers += i[0] - i[1]\n",
    "    stop_num +=1\n",
    "    print(\"At the stop n°\", stop_num, \", there are\", passengers, \"passengers.\")\n"
   ]
  },
  {
   "cell_type": "markdown",
   "metadata": {},
   "source": [
    "#### 3. Find the maximum occupation of the bus."
   ]
  },
  {
   "cell_type": "code",
   "execution_count": 4,
   "metadata": {},
   "outputs": [
    {
     "name": "stdout",
     "output_type": "stream",
     "text": [
      "The maximum occupation of the bus is : 14 passengers.\n"
     ]
    }
   ],
   "source": [
    "stop_num = 0\n",
    "passengers = 0\n",
    "occupations = []\n",
    "\n",
    "for i in stops : \n",
    "    passengers += i[0] - i[1]\n",
    "    stop_num +=1\n",
    "    occupations.append(passengers)\n",
    "    \n",
    "print(\"The maximum occupation of the bus is :\", max(occupations), \"passengers.\")"
   ]
  },
  {
   "cell_type": "markdown",
   "metadata": {},
   "source": [
    "#### 4. Calculate the average occupation. And the standard deviation."
   ]
  },
  {
   "cell_type": "code",
   "execution_count": 5,
   "metadata": {},
   "outputs": [
    {
     "name": "stdout",
     "output_type": "stream",
     "text": [
      "The average occupation is : 9.333333333333334\n",
      "The standard deviation is : 3.391164991562634\n"
     ]
    }
   ],
   "source": [
    "avg = sum(occupations)/len(occupations)\n",
    "print(\"The average occupation is :\", avg)\n",
    "\n",
    "import statistics\n",
    "std_dev = statistics.stdev(occupations)\n",
    "print(\"The standard deviation is :\", std_dev)"
   ]
  },
  {
   "cell_type": "code",
   "execution_count": null,
   "metadata": {},
   "outputs": [],
   "source": []
  }
 ],
 "metadata": {
  "kernelspec": {
   "display_name": "Python 3",
   "language": "python",
   "name": "python3"
  },
  "language_info": {
   "codemirror_mode": {
    "name": "ipython",
    "version": 3
   },
   "file_extension": ".py",
   "mimetype": "text/x-python",
   "name": "python",
   "nbconvert_exporter": "python",
   "pygments_lexer": "ipython3",
   "version": "3.8.1"
  }
 },
 "nbformat": 4,
 "nbformat_minor": 2
}
